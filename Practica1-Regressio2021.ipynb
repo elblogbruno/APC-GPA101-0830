{
 "cells": [
  {
   "cell_type": "markdown",
   "metadata": {},
   "source": [
    "# Introducció a la pràctica 1: primers passos\n",
    "\n",
    "## Objectius\n",
    "\n",
    "Els objectius d'aquesta pràctica són:\n",
    "\n",
    "* Aplicar models de regressió, ficant l'èmfasi en: \n",
    "    1. Analitzar els atributs per seleccionar els més representatius i normalitzar-los.\n",
    "    2. Avaluar correctament l'error del model \n",
    "    3. Visualitzar les dades i el model resultant\n",
    "    4. Saber aplicar el procès de descens del gradient\n",
    "\n",
    "* Ésser capaç d'aplicar tècniques de regressió en casos reals\n",
    "\n",
    "* Validar els resultats en dades reals\n",
    "\n",
    "* Fomentar la capacitat per presentar resultats tècnics d'aprenentatge computacional de forma adequada davant altres persones\n",
    "\n",
    "\n",
    "### Jupyter Notebook\n",
    "\n",
    "Aquest ``jupyter notebook`` està compost de blocs de text i codi, recordeu que hi ha blocs de codi que depenen de que blocs anteriors hagin estat executats. \n",
    "\n",
    "El codi d'aquest notebook és modificable i us recomanem que feu canvis i en comproveu els resultats.\n",
    "\n",
    "**Per a executar el notebook: cal que instal.leu [jupyter notebook](http://jupyter.readthedocs.io/en/latest/install.html).**\n",
    "\n",
    "\n",
    "### Guia d'instal.lació de les llibreries\n",
    "\n",
    "\n",
    "És molt recomanable que utilitzeu Linux, ja que agilitza la instal.lació de les llibreries. També es recomana utilitzar **Anaconda**, una distribucó de python multiplataforma que permet instal.lar llibreries fàcilment i l'IDE d'spyder o PyCharm.\n",
    "\n",
    "Donat que teniu conda o pypi (pip) (aquest segon es pot instal.lar amb ``apt-get``), heu d'instal.lar els següents paquets (exemple en pypi):\n",
    "\n",
    "```\n",
    "sudo pip install numpy\n",
    "sudo pip install scikit-learn\n",
    "sudo pip install matplotlib\n",
    "sudo pip install scipy\n",
    "```\n",
    "\n",
    "En el cas d'Anaconda, substituir ``sudo pip`` per ``conda``.\n",
    "\n",
    "En el cas del matplotlib, si us dona errors en Ubuntu Linux (`FileNotFoundError: [Errno 2] No such file or directory: 'latex': 'latex'`), cal instal·lar el paquet `texlive-full` (`sudo apt install texlive-full`) que ocupa 3-4GB. Si només ho voleu per aquesta pràctica, podeu provar amb el `textlive-base` (uns 100MB)\n"
   ]
  },
  {
   "cell_type": "markdown",
   "metadata": {},
   "source": [
    "## Avaluació i entregues de la pràctica 1\n",
    "\n",
    "En la pràctica 1, es presenten diversos problemes per comprendre els mètodes de regressió numèrica. \n",
    "\n",
    "Les entregues s'organitzen en tres nivells d'assoliment dels objectius, incrementals: apartat **C (sobre 5 punts)**, assoliment baix, apartat **B, (sobre 3 punts)**, assoliment mig i apartat **A, (sobre 2 punts)**, assoliment alt. La suma dels 3 apartats serà la nota final de la pràctica 1.\n",
    "\n",
    "Per aprovar la pràctica és requisit necessari completar satisfactòriament els problemes d'assoliment baix (C), demostrant així una comprensió mínima de la matèria. Per tant, la superació de la pràctica 1 estarà condicionada a la presentació de la documentació sobre l'apartat (C), i serà opcional realitzar els apartats (B i A).\n",
    "\n",
    "Resumint, la pràctica 1 conté 3 apartats:\n",
    "\n",
    "* apartat C. serà obligatori per aprovar la pràctica 1 (amb un 5.0)\n",
    "* apartat B. serà opcional i val fins a 3 punts (cal haver fet el apartat C).\n",
    "* apartat A. serà opcional i val fins a 2 punts (cal haver fet el apartat C i B).\n",
    "\n",
    "\n",
    "### Sessió de treball i sessió d'avaluació\n",
    "\n",
    "La sessió de treball de **14/10**, està orientada a que, durant 1 hora i mitja, els alumnes que vingueu pugueu preguntar i resoldre dubtes sobre les bases de dades que us han estat assignades, preguntar sobre l'objectiu de cada apartat dels enunciats que no us hagi quedat clar, i preguntar sobre els resultats que esteu obtenint a l'hora d'analitzar les dades.\n",
    "\n",
    "En definitiva, l'objectiu de la sessió és que al sortir tingueu clar com són les vostres dades, què cal entregar i com implementar cada apartat C, B i A. Per això, si ja ho teniu clar, l'assistència és voluntària.\n",
    "\n",
    "En la següent sessió del **28/10**, la màxima puntuació per la **pràctica 1 de regressió** s'aconsegueix resolent els problemes dels apartats (B i A), d'entrega opcional. Caldrà pujar al Caronte abans de les 00:59 del dimecres 27 d'octubre un ZIP amb el codi, la documentació i el ppt (10 minuts) dels apartats (B i A) sobre regressió. Podeu \"recuperar\" l'apartat (C) entregant-ho per aquesta sessió, ja que fer l'apartat (B) és obligatori haver completat el (C).\n",
    "\n",
    "* Entrega ZIP \n",
    "   1. Memòria explicant els resultats trobats en la base de dades que heu treballat, detallant el passos seguits (60% de la nota). \n",
    "   2. Codi python desenvolupat (30% de la nota)\n",
    "   3. Presentació amb els resultats 10 min màxim (10% de la nota)\n",
    "\n",
    "\n"
   ]
  },
  {
   "cell_type": "markdown",
   "metadata": {},
   "source": [
    "## Material de la pràctica 1\n",
    "\n",
    "1. Bases de dades a Kaggle: cada grup utilitzarà les bases de dades que se li hagin assignat. \n",
    "2. Codi d'exemple (aquest document).\n",
    "3. Apunts de l'assignatura.\n",
    "4. Llibreries de python: scikit-learn, numpy, scipy, matplotlib.\n",
    "\n",
    "### Bases de Dades\n",
    "\n",
    "| # | URL | GRUP |\n",
    "|:-:|:--|:-:|\n",
    "|\t1\t|\thttps://www.kaggle.com/mohansacharya/graduate-admissions\t|\tGPA101-0830\t|\n",
    "|\t2\t|\thttps://www.kaggle.com/primaryobjects/voicegender\t|\tGPA102-0830\t|\n",
    "|\t3\t|\thttps://www.kaggle.com/mirichoi0218/insurance\t|\tGPA103-0830\t|\n",
    "|\t4\t|\thttps://www.kaggle.com/rhuebner/human-resources-data-set\t|\tGPA104-0830\t|\n",
    "|\t5\t|\thttps://www.kaggle.com/uciml/red-wine-quality-cortez-et-al-2009\t|\tGPA105-0830\t|\n",
    "|\t6\t|\thttps://www.kaggle.com/kumarajarshi/life-expectancy-who\t|\tGPA201-0930\t|\n",
    "|\t7\t|\thttps://www.kaggle.com/marklvl/bike-sharing-dataset\t|\tGPA202-0930\t|\n",
    "|\t8\t|\thttps://www.kaggle.com/vikrishnan/boston-house-prices\t|\tGPA203-0930\t|\n",
    "|\t9\t|\thttps://www.kaggle.com/imnikhilanand/heart-attack-prediction\t|\tGPA204-0930\t|\n",
    "|\t10\t|\thttps://www.kaggle.com/dongeorge/beer-consumption-sao-paulo\t|\tGPA205-0930\t|\n",
    "|\t11\t|\thttps://www.kaggle.com/anderas/car-consume\t|\tGPA301-1030\t|\n",
    "|\t12\t|\thttps://www.kaggle.com/edgarhuichen/nba-players-career-game-log\t|\tGPA302-1030\t|\n",
    "|\t13\t|\thttps://www.kaggle.com/dipam7/student-grade-prediction\t|\tGPA303-1030\t|\n",
    "|\t14\t|\thttps://www.kaggle.com/navoneel/fta-data\t|\tGPA304-1030\t|\n",
    "|\t15\t|\thttps://www.kaggle.com/maajdl/yeh-concret-data\t|\tGPA305-1030\t|\n",
    "|\t16\t|\thttps://www.kaggle.com/mrisdal/combo17-galaxy-dataset\t|\tGPA401-1130\t|\n",
    "|\t17\t|\thttps://www.kaggle.com/elikplim/forest-fires-data-set\t|\tGPA402-1130\t|\n",
    "|\t18\t|\thttps://www.kaggle.com/rodolfomendes/abalone-dataset\t|\tGPA403-1130\t|\n",
    "|\t19\t|\thttps://www.kaggle.com/ravisane1/market-price-of-onion-2020\t|\tGPA404-1130\t|\n",
    "|\t20\t|\thttps://www.kaggle.com/fredgirod/web-crawler-for-real-estate-market\t|\tGPA405-1130\t|\n",
    "|\t21\t|\thttps://www.kaggle.com/avikasliwal/used-cars-price-prediction\t|\tGPA501-1230\t|\n",
    "|\t22\t|\thttps://www.kaggle.com/shebrahimi/financial-distress\t|\tGPA502-1230\t|\n",
    "|\t23\t|\thttps://www.kaggle.com/usda/the-national-summary-of-meats\t|\tGPA503-1230\t|\n",
    "|\t24\t|\thttps://www.kaggle.com/uciml/electric-power-consumption-data-set\t|\tGPA504-1230\t|\n",
    "|\t25\t|\thttps://www.kaggle.com/manishkc06/engineering-graduate-salary-prediction\t|\tGPA505-1230\t|\n",
    "|\t26\t|\thttps://www.kaggle.com/jsphyg/tipping\t|\tGPA601-1530\t|\n",
    "|\t27\t|\thttps://www.kaggle.com/amarpandey/world-life-expectancy-18002016\t|\tGPA602-1530\t|\n",
    "|\t28\t|\thttps://www.kaggle.com/snehal1405/yellow-stone-national-park\t|\tGPA603-1530\t|\n",
    "|\t29\t|\thttps://www.kaggle.com/nisargpatel/automobiles\t|\tGPA604-1530\t|\n",
    "|\t30\t|\thttps://www.kaggle.com/sabermalek/tapds\t|\tGPA605-1530\t|\n",
    "|\t31\t|\thttps://www.kaggle.com/noordeen/insurance-premium-prediction\t|\tGPA606-1530\t|\n",
    "|\t32\t|\thttps://www.kaggle.com/olgabelitskaya/russian-financial-indicators\t|\tGPA607-1530\t|\n",
    "|\t33\t|\thttps://www.kaggle.com/ramkumarr02/deodorant-instant-liking-data\t|\tGPA608-1530\t|\n",
    "\n"
   ]
  },
  {
   "cell_type": "markdown",
   "metadata": {},
   "source": [
    "# Apartat (C): Analitzant Dades\n",
    "\n",
    "L'objectiu d'aquest primer apartat serà conèixer la base de dades que es té entre mans. S'han d'analitzar els diferents atributs que la composen, entendre'ls i, si no està estipulat, **caldrà fixar quin es l'atribut objectiu a predir de tots els que hi ha a la base de dades**, justificant el per què de la decisió (és útil i representatiu pel problema, per exemple, donat un conjunt de dades sobre persones: edat, gènere, pes, alçada, risc de patir càncer, aquesta última pot ser justificada com la de més interés). També podeu mirar que l'atribut objectiu tingui valors que canvien. Per exemple, no té sentit predir un atribut on el 99% dels valors són 0, i hi ha algun 1.\n",
    "\n",
    "Ara podeu veure un exemple amb una base de dades **dummy** que creem nosaltres mateixos:"
   ]
  },
  {
   "cell_type": "code",
   "execution_count": 3,
   "metadata": {},
   "outputs": [
    {
     "name": "stdout",
     "output_type": "stream",
     "text": [
      "Dimensionalitat de la BBDD: (20, 3)\n",
      "Dimensionalitat de les entrades X (20, 2)\n",
      "Dimensionalitat de l'atribut Y (20,)\n"
     ]
    }
   ],
   "source": [
    "from sklearn.datasets import make_regression\n",
    "import numpy as np\n",
    "import pandas as pd\n",
    "%matplotlib notebook\n",
    "from matplotlib import pyplot as plt\n",
    "import scipy.stats\n",
    "\n",
    "# Visualitzarem només 3 decimals per mostra\n",
    "pd.set_option('display.float_format', lambda x: '%.3f' % x)\n",
    "\n",
    "# Funcio per a llegir dades en format csv\n",
    "def load_dataset(path):\n",
    "    dataset = pd.read_csv(path, header=0, delimiter=',')\n",
    "    return dataset\n",
    "\n",
    "# Carreguem dataset d'exemple\n",
    "dataset = load_dataset('dummy.csv')\n",
    "data = dataset.values\n",
    "\n",
    "x = data[:, :2]\n",
    "y = data[:, 2]\n",
    "\n",
    "print(\"Dimensionalitat de la BBDD:\", dataset.shape)\n",
    "print(\"Dimensionalitat de les entrades X\", x.shape)\n",
    "print(\"Dimensionalitat de l'atribut Y\", y.shape)"
   ]
  },
  {
   "cell_type": "markdown",
   "metadata": {},
   "source": [
    "Algunes bases de dades tenen valors no existents. Numpy els representa amb ``np.nan``. Per a treure'ls, podeu fer: ``dades[np.isnan(dades)] = valor``. Podeu mirar com afecten diferents estratègies d'assignar ``valor``. Per exemple, pot ser 0, la mitja, la mediana, .... També podeu analitzar si hi ha algun atribut perdut (que té molts valors no existents) i valorar si eliminar directament l'atribut.\n",
    "\n",
    "A més, utilitzeu la llibreria pandas, i no `np.genfromtxt()` ja que llegeix només valors numèrics, i els NaN els converteix a string. Si esteu empenyats en utilitzar `np.genfromtxt()`, caldrà posar-li com a paràmetre `dtype=object`"
   ]
  },
  {
   "cell_type": "code",
   "execution_count": null,
   "metadata": {},
   "outputs": [],
   "source": [
    "print(\"Per comptar el nombre de valors no existents:\")\n",
    "print(dataset.isnull().sum())"
   ]
  },
  {
   "cell_type": "code",
   "execution_count": null,
   "metadata": {},
   "outputs": [],
   "source": [
    "print(\"Per visualitzar les primeres 5 mostres de la BBDD:\")\n",
    "dataset.head() "
   ]
  },
  {
   "cell_type": "code",
   "execution_count": null,
   "metadata": {},
   "outputs": [],
   "source": [
    "print(\"Per veure estadístiques dels atributs numèrics de la BBDD:\")\n",
    "dataset.describe()"
   ]
  },
  {
   "cell_type": "code",
   "execution_count": null,
   "metadata": {},
   "outputs": [],
   "source": [
    "# mostrem atribut 0\n",
    "plt.figure()\n",
    "\n",
    "ax = plt.scatter(x[:,0], y)"
   ]
  },
  {
   "cell_type": "code",
   "execution_count": null,
   "metadata": {},
   "outputs": [],
   "source": [
    "plt.figure()\n",
    "plt.title(\"Histograma de l'atribut 0\")\n",
    "plt.xlabel(\"Attribute Value\")\n",
    "plt.ylabel(\"Count\")\n",
    "hist = plt.hist(x[:,0], bins=11, range=[np.min(x[:,0]), np.max(x[:,0])], histtype=\"bar\", rwidth=0.8)"
   ]
  },
  {
   "cell_type": "markdown",
   "metadata": {},
   "source": [
    "També podem estudiar la correlació entre els diferents atributs per tal de saber si estan correlacionats entre ells."
   ]
  },
  {
   "cell_type": "code",
   "execution_count": null,
   "metadata": {},
   "outputs": [],
   "source": [
    "import seaborn as sns\n",
    "\n",
    "# Mirem la correlació entre els atributs d'entrada per entendre millor les dades\n",
    "correlacio = dataset.corr()\n",
    "\n",
    "plt.figure()\n",
    "\n",
    "ax = sns.heatmap(correlacio, annot=True, linewidths=.5)"
   ]
  },
  {
   "cell_type": "markdown",
   "metadata": {},
   "source": [
    "També podem utilitzar la funció pairplot per tal de veure els atributs que estan relacionats entre si."
   ]
  },
  {
   "cell_type": "code",
   "execution_count": null,
   "metadata": {},
   "outputs": [],
   "source": [
    "# Mirem la relació entre atributs utilitzant la funció pairplot\n",
    "relacio = sns.pairplot(dataset)"
   ]
  },
  {
   "cell_type": "markdown",
   "metadata": {},
   "source": [
    "Així doncs ara podreu respondre a les següents preguntes:\n",
    "\n",
    "1. Quin és el tipus de cada atribut? \n",
    "2. Quins atributs tenen una distribució Guassiana?\n",
    "3. Quin és l'atribut objectiu? Per què?"
   ]
  },
  {
   "cell_type": "markdown",
   "metadata": {},
   "source": [
    "# Apartat (B): Primeres regressions\n",
    "\n",
    "Per a aquest primer apartat es calcularà l'error quadràtic mitjà només del regressor per a cada un dels atributs de la base de dades, determinant aquell atribut pel qual l'error quadràtic mitjà (entre el valor predit i el real, per a cada mostra) és més baix. \n",
    "\n",
    "A continuació se us dona una funció auxiliar per a calcular l'error quadràtic mitjà:"
   ]
  },
  {
   "cell_type": "code",
   "execution_count": null,
   "metadata": {},
   "outputs": [],
   "source": [
    "import math\n",
    "\n",
    "def mean_squeared_error(y1, y2):\n",
    "    # comprovem que y1 i y2 tenen la mateixa mida\n",
    "    assert(len(y1) == len(y2))\n",
    "    mse = 0\n",
    "    for i in range(len(y1)):\n",
    "        mse += (y1[i] - y2[i])**2\n",
    "    return mse / len(y1)\n",
    "\n",
    "mean_squeared_error([1,2,3,4], [1,2,1,4])"
   ]
  },
  {
   "cell_type": "markdown",
   "metadata": {},
   "source": [
    "Per a agilitzar els càlculs es recomana utilitzar la llibreria numpy. Aquesta llibreria ens permet processar vectors sencers a la vegada de manera eficient i en paral·lel. Exemple:"
   ]
  },
  {
   "cell_type": "code",
   "execution_count": null,
   "metadata": {},
   "outputs": [],
   "source": [
    "import numpy as np #importem la llibreria\n",
    "np.warnings.filterwarnings('ignore')\n",
    "\n",
    "vector1 = np.array([1,2,3,4]) # convertim llista de python a numpy array\n",
    "vector2 = np.array([1,2,1,4]) \n",
    "\n",
    "# podem sumar dos vectors element a element\n",
    "print(\"Suma vector1 + vector2 \", vector1 + vector2)\n",
    "\n",
    "# podem sumar tots els valors d'un vector\n",
    "print(\"Suma valors vector1 \", vector1.sum())\n",
    "\n",
    "# calculem la mitjana\n",
    "print(\"Mitjana vector1\", vector1.mean())\n",
    "\n",
    "# utilitzem un vector com a índex de l'altre\n",
    "# vector3 = vector1  # necesitem fer una copia del vector per no modificar el original\n",
    "vector3 = vector1.copy()\n",
    "vector3[vector2 == 1] = 5\n",
    "print(\"Vector1 amb un 5 on el Vector2 te 1s \", vector3)\n",
    "\n",
    "# es pot utilitzar numpy per a calcular el mse\n",
    "def mse(v1, v2):\n",
    "    return ((v1 - v2)**2).mean()\n",
    "\n",
    "print(\"MSE: \", mse(vector1, vector2))"
   ]
  },
  {
   "cell_type": "markdown",
   "metadata": {},
   "source": [
    "Per a la regressió podeu utilitzar la llibreria sklearn:"
   ]
  },
  {
   "cell_type": "code",
   "execution_count": null,
   "metadata": {},
   "outputs": [],
   "source": [
    "from sklearn.linear_model import LinearRegression\n",
    "\n",
    "def regression(x, y):\n",
    "    # Creem un objecte de regressió de sklearn\n",
    "    regr = LinearRegression()\n",
    "\n",
    "    # Entrenem el model per a predir y a partir de x\n",
    "    regr.fit(x, y)\n",
    "\n",
    "    # Retornem el model entrenat\n",
    "    return regr"
   ]
  },
  {
   "cell_type": "markdown",
   "metadata": {},
   "source": [
    "Finalment, si la funció `fit` del regressor logístic dónes l'error: `ValueError: Unknown label type: 'unknown'`, caldria afegir a la definició de l'atribut a trobar $y$ la crida a la funció `.astype('int')` per tal de obligar a que les dades siguin de tipus sencer, deixant el codi com segueix:\n",
    "\n",
    "`y = data[:,2].astype('int')`"
   ]
  },
  {
   "cell_type": "markdown",
   "metadata": {},
   "source": [
    "A continuació, es modificaran tots els atributs mitjançant **procediments de normalització (normal, estàndard)**, i s'avaluarà el rendiment del regressor après. Per a això, caldrà analitzar la mitja i variança de cada variable per totes les mostres, per identificar aquells valors que tenen una distribució normal, els preferits per fer regressió, i descartar altres atributs que no són representatius per fer la regressió, i que afegeixen soroll al model. \n",
    "\n",
    "Pel que fa a l'error resultant de la regressió, recordeu que es calcula fent la diferència entre el valor predit i el real al quadrat: així doncs, si les dades tenen valors grans (tipus 10^3), l'error al quadrat podria acabar sent 10^6. Per això és important normalitzar abans (escalar les dades a un rang més petit).\n",
    "\n",
    "<img src=\"images/standarization.png\">\n",
    "\n",
    "Podeu estandarditzar les dades amb les funcions mean i std de numpy i mostrar l'hisotgrama de nou. Recuperant l'exemple de l'apartat anterior:"
   ]
  },
  {
   "cell_type": "code",
   "execution_count": null,
   "metadata": {},
   "outputs": [],
   "source": [
    "def standarize(x_train):\n",
    "    mean = x_train.mean(0)\n",
    "    std = x_train.std(0)\n",
    "    x_t = x_train - mean[None, :]\n",
    "    x_t /= std[None, :]\n",
    "    return x_t\n",
    "\n",
    "x_t = standarize(x)"
   ]
  },
  {
   "cell_type": "markdown",
   "metadata": {},
   "source": [
    "Ara ja podeu comprovar la diferència entre entrenar amb els atributs estandaritzats i si aquells que tenen una distribució més semblant a la normal donen millors resultats. \n",
    "Finalment, s'aprendrà un model regressor tenint en compte tots aquells atributs que tenen una millor distribució de valors (lineal, això és, l'histograma de valors té forma de gaussiana), i es calcularà l'error assolit en la predicció. \n",
    "\n",
    "Recordeu que el valor sobre el que heu de fer la regressió queda al vostre criteri: **heu d'explicar a la memòria quin atribut heu fet servir, no hi ha una decisió única correcta, cal que doneu raons de per què heu triat l'atribut que hàgiu triat.**\n",
    "\n",
    "Així per exemple pode mirar:\n",
    "\n",
    "* Que l'objectiu de la regressió sigui un valor ordinal (1 > 2 > 3). Si no n'hi ha cap, explicar-ho a la memòria.\n",
    "\n",
    "* Que sigui útil en alguna aplicació real (per exemple predir si plourà és més interessant que predir el color dels núvols).\n",
    "\n",
    "* Que tingui certa variació (un atribut que és sempre 0, no té gaire interès)\n",
    "\n",
    "I en definitiva explicar el criteri a seguir, tant amb paraules com amb gràfiques (per exemple histograma), o estadístiques (per exemple la variança dels atributs) si escau.\n",
    "\n",
    "Un cop escollit l'atribut objectiu, caldrà justificar si l'error obtingut és, en proporció, menor que tenint en compte únicament el millor atribut identificat al primer punt. \n",
    "\n",
    "Podeu utilitzar les funcions hist de matplotlib per a calcular els histogrames. Exemple:"
   ]
  },
  {
   "cell_type": "code",
   "execution_count": null,
   "metadata": {},
   "outputs": [],
   "source": [
    "plt.figure()\n",
    "plt.title(\"Histograma de l'atribut 0\")\n",
    "plt.xlabel(\"Attribute Value\")\n",
    "plt.ylabel(\"Count\")\n",
    "hist = plt.hist(x_t[:,0], bins=11, range=[np.min(x_t[:,0]), np.max(x_t[:,0])], histtype=\"bar\", rwidth=0.8)"
   ]
  },
  {
   "cell_type": "markdown",
   "metadata": {},
   "source": [
    "o utilitzar les funcions de visualitzación del propi pandas."
   ]
  },
  {
   "cell_type": "code",
   "execution_count": null,
   "metadata": {},
   "outputs": [],
   "source": [
    "dataset.drop(['attr2'],1).hist()"
   ]
  },
  {
   "cell_type": "markdown",
   "metadata": {},
   "source": [
    "Ara que hem carregat les dades podem entrenar un regressor lineal per a aproximar la funció que les genera:"
   ]
  },
  {
   "cell_type": "code",
   "execution_count": null,
   "metadata": {},
   "outputs": [],
   "source": [
    "from sklearn.metrics import r2_score\n",
    "\n",
    "# Extraiem el primer atribut de x i canviem la mida a #exemples, #dimensions de l'atribut.\n",
    "# En el vostre cas, haureu de triar un atribut com a y, i utilitzar la resta com a x.\n",
    "atribut1 = x[:,0].reshape(x.shape[0], 1) \n",
    "regr = regression(atribut1, y) \n",
    "predicted = regr.predict(atribut1)\n",
    "\n",
    "# Mostrem la predicció del model entrenat en color vermell a la Figura anterior 1\n",
    "plt.figure()\n",
    "ax = plt.scatter(x[:,0], y)\n",
    "plt.plot(atribut1[:,0], predicted, 'r')\n",
    "\n",
    "# Mostrem l'error (MSE i R2)\n",
    "MSE = mse(y, predicted)\n",
    "r2 = r2_score(y, predicted)\n",
    "\n",
    "print(\"Mean squeared error: \", MSE)\n",
    "print(\"R2 score: \", r2)\n"
   ]
  },
  {
   "cell_type": "markdown",
   "metadata": {},
   "source": [
    "Un cop mostrats de manera adient, (en forma de taula, i/o de gràfics si la dimensionalitat ho permet) els resultats aconseguits amb la regressió, avaluarem de manera independent la idonietat de cadascun dels atributs."
   ]
  },
  {
   "cell_type": "code",
   "execution_count": null,
   "metadata": {},
   "outputs": [],
   "source": [
    "\"\"\" Per a assegurar-nos que el model s'ajusta be a dades noves, no vistes, \n",
    "cal evaluar-lo en un conjunt de validacio (i un altre de test en situacions reals).\n",
    "Com que en aquest cas no en tenim, el generarem separant les dades en \n",
    "un 80% d'entrenament i un 20% de validació.\n",
    "\"\"\"\n",
    "def split_data(x, y, train_ratio=0.8):\n",
    "    indices = np.arange(x.shape[0])\n",
    "    np.random.shuffle(indices)\n",
    "    n_train = int(np.floor(x.shape[0]*train_ratio))\n",
    "    indices_train = indices[:n_train]\n",
    "    indices_val = indices[n_train:] \n",
    "    x_train = x[indices_train, :]\n",
    "    y_train = y[indices_train]\n",
    "    x_val = x[indices_val, :]\n",
    "    y_val = y[indices_val]\n",
    "    return x_train, y_train, x_val, y_val\n",
    "\n",
    "# Dividim dades d'entrenament\n",
    "x_train, y_train, x_val, y_val = split_data(x, y)\n",
    "\n",
    "for i in range(x_train.shape[1]):\n",
    "    x_t = x_train[:,i] # seleccionem atribut i en conjunt de train\n",
    "    x_v = x_val[:,i] # seleccionem atribut i en conjunt de val.\n",
    "    x_t = np.reshape(x_t,(x_t.shape[0],1))\n",
    "    x_v = np.reshape(x_v,(x_v.shape[0],1))\n",
    "\n",
    "    regr = regression(x_t, y_train)    \n",
    "    error = mse(y_val, regr.predict(x_v)) # calculem error\n",
    "    r2 = r2_score(y_val, regr.predict(x_v))\n",
    "\n",
    "    print(\"Error en atribut %d: %f\" %(i, error))\n",
    "    print(\"R2 score en atribut %d: %f\" %(i, r2))\n"
   ]
  },
  {
   "cell_type": "markdown",
   "metadata": {},
   "source": [
    "Quan es treballa en dades n-dimensionals (més d'un atribut), una opció és reduir la seva n-dimensionalitat aplicant un Principal Component Analysis (PCA) i quedar-se amb els primers 2 o 3 components, obtenint unes dades que (ara sí) poden ser visualitzables en el nou espai. Existeixen altres embeddings de baixa dimensionalitat on poder visualitzar les dades?"
   ]
  },
  {
   "cell_type": "markdown",
   "metadata": {},
   "source": [
    "Així es podrà contestar a aquestes **preguntes**:\n",
    "\n",
    "1. Quin són els atributs més importants per fer una bona predicció?\n",
    "\n",
    "2. Amb quin atribut s'assoleix un MSE menor?\n",
    "\n",
    "3. Quina correlació hi ha entre els atributs de la vostra base de dades?\n",
    "\n",
    "4. Com influeix la normalització en la regressió?\n",
    "\n",
    "5. Com millora la regressió quan es filtren aquells atributs de les mostres que no contenen informació?\n",
    "\n",
    "6. Si s'aplica un PCA, a quants components es redueix l'espai? Per què?\n"
   ]
  },
  {
   "cell_type": "markdown",
   "metadata": {},
   "source": [
    "# Apartat (A): El descens del gradient  \n",
    "\n",
    "En aquest exercici, es tracta d'implementar en python el procés de descent del gradient explicat a les classes de teoria, i comparar-lo amb els resultats obtinguts amb l'apartat (B). \n",
    "\n",
    "$$J(w) = \\frac{1}{2m} \\left[ \\sum^m_{i=1}(f(x^{i}; w) - y^{i})^2 + \\lambda\\sum_{j=1}^{n}(w_{j}^2) \\right]$$\n",
    "\n",
    "Fixeu-vos que $J$ retorna el `mse`. Per a trobar $w_j$, repetir fins convergència:\n",
    "$$w_0 = w_0 - \\alpha \\frac{1}{m} \\sum_{i=1}^{m}(f(x^{i}; w)-y^{i}) \\cdot 1$$\n",
    "$$w_j = w_j - \\alpha \\left[\\frac{1}{m} \\sum_{i=1}^{m}(f(x^{i}; w)-y^{i}) \\cdot x_{j}^{i} - \\frac{\\lambda}{m}w_{j} \\right]$$\n",
    "\n",
    "\n",
    "ó:\n",
    "\n",
    "$$w_{j} := w_{j} \\left(1-\\alpha \\frac{\\lambda}{m} \\right) - \\alpha\\frac{\\lambda}{m} \\sum_{i=1}^{m}(f(x^{i}; w)-y^{i}) \\cdot x_{j}^{i}$$\n",
    "\n",
    "On si considerem un regressor lineal (el model és una recta), llavors $w_0$ i $w_1$ representen, respectivament, la $b$ i $a$ de la fòrmula de la recta: \n",
    "\n",
    "$$h_\\theta(x^{(i)}) = ax + b$$\n",
    "\n",
    "$\\alpha$ és el learning rate, i $h_\\theta(x^{(i)})$ és la funció que fa la regressió, és a dir, la funció que prediu el valor de $y^{(i)}$ donat un(s) atribut(s) concret(s) $x^{(i)}$.\n",
    "\n",
    "Així, tenint calculat el model en l'últim punt del primer exercici, ja sabeu quin resultat hauríeu d'obtenir. O no, perquè la vostra implementació pot ser millor! En concret, es tracta de desenvolupar aquestes tasques:\n",
    "\n",
    "* Definir la funció de cost i del gradient\n",
    "\n",
    "* Estudiar com l'ús de regularitzadors afecta el resultat: overfitting, underfitting, etc. \n",
    "\n",
    "* Visualització de les dades a analitzar i explicació pas a pas del procediment   \n",
    "\n",
    "* Visualització del procés de descens de gradient \n",
    "\n",
    "* Modificar el learning rate i el nombre d'iteracions \n",
    "\n",
    "<img src=\"images/gradient_descent.png\">\n",
    "\n",
    "Per a la implementació us podeu basar en el següent esquelet:"
   ]
  },
  {
   "cell_type": "code",
   "execution_count": null,
   "metadata": {},
   "outputs": [],
   "source": [
    "class Regressor(object):\n",
    "    def __init__(self, w0, w1, alpha):\n",
    "        # Inicialitzem w0 i w1 (per ser ampliat amb altres w's)\n",
    "        self.w0 = w0\n",
    "        self.w1 = w1\n",
    "        self.alpha = alpha\n",
    "\n",
    "        \n",
    "    def predict(self, x):\n",
    "        # implementar aqui la funció de prediccio\n",
    "        pass\n",
    "    \n",
    "    def __update(self, hy, y):\n",
    "        # actualitzar aqui els pesos donada la prediccio (hy) i la y real.\n",
    "        pass\n",
    "    \n",
    "    def train(self, max_iter, epsilon):\n",
    "        # Entrenar durant max_iter iteracions o fins que la millora sigui inferior a epsilon\n",
    "        pass"
   ]
  },
  {
   "cell_type": "markdown",
   "metadata": {},
   "source": [
    "L'últim pas serà validar el regressor trobat pel descent del gradient desenvolupat en aquest apartat visualment, aplicat a un model de recta i un model de pla. Per a això, caldrà considerar el millor atribut identificat en el primer punt de l'anterior entrega per visualitzar la línia regressora en 2D (podeu mostrar dades 2d amb la funció scatter). Després, dos dels atributs identificats a l'últim punt del primer exercici per visualitzar el pla regressor en 3D (En el cas 3D l’scatter s’ha de fer sobre una figura amb projecció 3D)."
   ]
  },
  {
   "cell_type": "code",
   "execution_count": null,
   "metadata": {},
   "outputs": [],
   "source": [
    "%matplotlib notebook\n",
    "\n",
    "# Creem figura 3d\n",
    "from mpl_toolkits.mplot3d import axes3d, Axes3D\n",
    "# generem dades 3D d'exemple\n",
    "x_val = np.random.random((100, 2))\n",
    "y_val = np.random.random((100, 1))\n",
    "regr = regression(x_val, y_val)\n",
    "predX3D = regr.predict(x_val)\n",
    "\n",
    "# Afegim els 1's\n",
    "A = np.hstack((x_val,np.ones([x_val.shape[0],1])))\n",
    "w = np.linalg.lstsq(A,predX3D)[0]\n",
    "\n",
    "#Dibuixem\n",
    "#1r creem una malla acoplada a la zona de punts per tal de representar el pla\n",
    "malla = (range(20) + 0 * np.ones(20)) / 10 \n",
    "malla_x1 =  malla * (max(x_val[:,0]) - min(x_val[:,0]))/2 + min(x_val[:,0])\n",
    "malla_x2 =  malla * (max(x_val[:,1]) - min(x_val[:,1]))/2 + min(x_val[:,1])\n",
    "\n",
    "#la funcio meshgrid ens aparella un de malla_x1 amb un de malla_x2, per atot\n",
    "#element de mallax_1 i per a tot element de malla_x2.\n",
    "xplot, yplot = np.meshgrid(malla_x1 ,malla_x2)\n",
    "\n",
    "# Cal desnormalitzar les dades\n",
    "def desnormalitzar(x, mean, std):\n",
    "    return x * std + mean\n",
    "\n",
    "#ara creem la superficies que es un pla\n",
    "zplot = w[0] * xplot + w[1] * yplot + w[2]\n",
    "\n",
    "#Dibuixem punts i superficie\n",
    "plt3d = plt.figure('Coeficiente prismatico -- Relacio longitud desplacament 3D', dpi=100.0).gca(projection='3d')\n",
    "plt3d.plot_surface(xplot,yplot,zplot, color='red')\n",
    "plt3d.scatter(x_val[:,0],x_val[:,1],y_val)"
   ]
  },
  {
   "cell_type": "markdown",
   "metadata": {},
   "source": [
    "Així es podrà contestar a aquestes preguntes:\n",
    "\n",
    "1. Com influeixen tots els paràmetres en el procés de descens? Quins valors de learning rate convergeixen més ràpid a la solució òptima? Com influeix la inicialització del model en el resultat final? \n",
    "\n",
    "2. Quines funcions polinomials (de diferent grau, de diferents combinacions d'atributs, ...) heu escollit per ser apreses amb el vostre descens del gradient? quina ha donat el millor resultat (en error i rapidesa en convergència)?\n",
    "\n",
    "3. Utilitzeu el regularitzador en la fòrmula de funció de cost i descens del gradient i proveu polinomis de diferent grau. Com afecta el valor del regularitzador?\n",
    "\n",
    "3. Quina diferència (quantitativa i qualitativa) hi ha entre el vostre regressor i el de la llibreria ?\n",
    "\n",
    "4. Té sentit el model (polinomial) trobat quan es visualitza sobre les dades? \n",
    "\n",
    "5. Ajuda la visualització a identificar aquelles mostres per a les que el regressor obté els pitjors resultats de predicció? \n"
   ]
  },
  {
   "cell_type": "code",
   "execution_count": null,
   "metadata": {},
   "outputs": [],
   "source": []
  }
 ],
 "metadata": {
  "kernelspec": {
   "display_name": "Python 3 (ipykernel)",
   "language": "python",
   "name": "python3"
  },
  "language_info": {
   "codemirror_mode": {
    "name": "ipython",
    "version": 3
   },
   "file_extension": ".py",
   "mimetype": "text/x-python",
   "name": "python",
   "nbconvert_exporter": "python",
   "pygments_lexer": "ipython3",
   "version": "3.9.4"
  }
 },
 "nbformat": 4,
 "nbformat_minor": 2
}
